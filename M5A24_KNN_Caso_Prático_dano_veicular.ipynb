{
  "nbformat": 4,
  "nbformat_minor": 0,
  "metadata": {
    "colab": {
      "provenance": [],
      "include_colab_link": true
    },
    "kernelspec": {
      "display_name": "Python 3",
      "language": "python",
      "name": "python3"
    },
    "language_info": {
      "codemirror_mode": {
        "name": "ipython",
        "version": 3
      },
      "file_extension": ".py",
      "mimetype": "text/x-python",
      "name": "python",
      "nbconvert_exporter": "python",
      "pygments_lexer": "ipython3",
      "version": "3.8.0"
    },
    "widgets": {
      "application/vnd.jupyter.widget-state+json": {
        "e1026eef6be343e0b47b8c56addea9da": {
          "model_module": "@jupyter-widgets/controls",
          "model_name": "DropdownModel",
          "model_module_version": "1.5.0",
          "state": {
            "_dom_classes": [],
            "_model_module": "@jupyter-widgets/controls",
            "_model_module_version": "1.5.0",
            "_model_name": "DropdownModel",
            "_options_labels": [
              "Laterais",
              "Dianteira",
              "Traseira",
              "Teto"
            ],
            "_view_count": null,
            "_view_module": "@jupyter-widgets/controls",
            "_view_module_version": "1.5.0",
            "_view_name": "DropdownView",
            "description": "Choose a Column to Plot vs. Attributes",
            "description_tooltip": null,
            "disabled": false,
            "index": 0,
            "layout": "IPY_MODEL_8d5d6be0143c4041b348bdf416ce4ca2",
            "style": "IPY_MODEL_95d05b3f20a54778944fa322617b1eff"
          }
        },
        "8d5d6be0143c4041b348bdf416ce4ca2": {
          "model_module": "@jupyter-widgets/base",
          "model_name": "LayoutModel",
          "model_module_version": "1.2.0",
          "state": {
            "_model_module": "@jupyter-widgets/base",
            "_model_module_version": "1.2.0",
            "_model_name": "LayoutModel",
            "_view_count": null,
            "_view_module": "@jupyter-widgets/base",
            "_view_module_version": "1.2.0",
            "_view_name": "LayoutView",
            "align_content": null,
            "align_items": null,
            "align_self": null,
            "border": null,
            "bottom": null,
            "display": null,
            "flex": null,
            "flex_flow": null,
            "grid_area": null,
            "grid_auto_columns": null,
            "grid_auto_flow": null,
            "grid_auto_rows": null,
            "grid_column": null,
            "grid_gap": null,
            "grid_row": null,
            "grid_template_areas": null,
            "grid_template_columns": null,
            "grid_template_rows": null,
            "height": "40px",
            "justify_content": null,
            "justify_items": null,
            "left": null,
            "margin": null,
            "max_height": null,
            "max_width": null,
            "min_height": null,
            "min_width": null,
            "object_fit": null,
            "object_position": null,
            "order": null,
            "overflow": null,
            "overflow_x": null,
            "overflow_y": null,
            "padding": null,
            "right": null,
            "top": null,
            "visibility": null,
            "width": "40%"
          }
        },
        "95d05b3f20a54778944fa322617b1eff": {
          "model_module": "@jupyter-widgets/controls",
          "model_name": "DescriptionStyleModel",
          "model_module_version": "1.5.0",
          "state": {
            "_model_module": "@jupyter-widgets/controls",
            "_model_module_version": "1.5.0",
            "_model_name": "DescriptionStyleModel",
            "_view_count": null,
            "_view_module": "@jupyter-widgets/base",
            "_view_module_version": "1.2.0",
            "_view_name": "StyleView",
            "description_width": ""
          }
        },
        "ff0ba4c9b4164eddad5bae89d4b50466": {
          "model_module": "@jupyter-widgets/controls",
          "model_name": "FloatSliderModel",
          "model_module_version": "1.5.0",
          "state": {
            "_dom_classes": [],
            "_model_module": "@jupyter-widgets/controls",
            "_model_module_version": "1.5.0",
            "_model_name": "FloatSliderModel",
            "_view_count": null,
            "_view_module": "@jupyter-widgets/controls",
            "_view_module_version": "1.5.0",
            "_view_name": "FloatSliderView",
            "continuous_update": true,
            "description": "Test Size :",
            "description_tooltip": null,
            "disabled": false,
            "layout": "IPY_MODEL_e8963218df2e498cab65e30c987755ca",
            "max": 0.6,
            "min": 0.01,
            "orientation": "horizontal",
            "readout": true,
            "readout_format": ".2f",
            "step": 0.1,
            "style": "IPY_MODEL_08f79f9851c8489794abd8c59489a432",
            "value": 0.2
          }
        },
        "e8963218df2e498cab65e30c987755ca": {
          "model_module": "@jupyter-widgets/base",
          "model_name": "LayoutModel",
          "model_module_version": "1.2.0",
          "state": {
            "_model_module": "@jupyter-widgets/base",
            "_model_module_version": "1.2.0",
            "_model_name": "LayoutModel",
            "_view_count": null,
            "_view_module": "@jupyter-widgets/base",
            "_view_module_version": "1.2.0",
            "_view_name": "LayoutView",
            "align_content": null,
            "align_items": null,
            "align_self": null,
            "border": null,
            "bottom": null,
            "display": null,
            "flex": null,
            "flex_flow": null,
            "grid_area": null,
            "grid_auto_columns": null,
            "grid_auto_flow": null,
            "grid_auto_rows": null,
            "grid_column": null,
            "grid_gap": null,
            "grid_row": null,
            "grid_template_areas": null,
            "grid_template_columns": null,
            "grid_template_rows": null,
            "height": null,
            "justify_content": null,
            "justify_items": null,
            "left": null,
            "margin": null,
            "max_height": null,
            "max_width": null,
            "min_height": null,
            "min_width": null,
            "object_fit": null,
            "object_position": null,
            "order": null,
            "overflow": null,
            "overflow_x": null,
            "overflow_y": null,
            "padding": null,
            "right": null,
            "top": null,
            "visibility": null,
            "width": null
          }
        },
        "08f79f9851c8489794abd8c59489a432": {
          "model_module": "@jupyter-widgets/controls",
          "model_name": "SliderStyleModel",
          "model_module_version": "1.5.0",
          "state": {
            "_model_module": "@jupyter-widgets/controls",
            "_model_module_version": "1.5.0",
            "_model_name": "SliderStyleModel",
            "_view_count": null,
            "_view_module": "@jupyter-widgets/base",
            "_view_module_version": "1.2.0",
            "_view_name": "StyleView",
            "description_width": "",
            "handle_color": null
          }
        },
        "f73ac3a7832743cb8fb363930fc0cf22": {
          "model_module": "@jupyter-widgets/controls",
          "model_name": "DropdownModel",
          "model_module_version": "1.5.0",
          "state": {
            "_dom_classes": [],
            "_model_module": "@jupyter-widgets/controls",
            "_model_module_version": "1.5.0",
            "_model_name": "DropdownModel",
            "_options_labels": [
              "1",
              "10",
              "30",
              "100"
            ],
            "_view_count": null,
            "_view_module": "@jupyter-widgets/controls",
            "_view_module_version": "1.5.0",
            "_view_name": "DropdownView",
            "description": "Number of Neighbours = ",
            "description_tooltip": null,
            "disabled": false,
            "index": 0,
            "layout": "IPY_MODEL_d2719269af9a477b9e3fd22e81f7b5d8",
            "style": "IPY_MODEL_4a6a11d4e04949bb9f5f8ed7b06e028a"
          }
        },
        "d2719269af9a477b9e3fd22e81f7b5d8": {
          "model_module": "@jupyter-widgets/base",
          "model_name": "LayoutModel",
          "model_module_version": "1.2.0",
          "state": {
            "_model_module": "@jupyter-widgets/base",
            "_model_module_version": "1.2.0",
            "_model_name": "LayoutModel",
            "_view_count": null,
            "_view_module": "@jupyter-widgets/base",
            "_view_module_version": "1.2.0",
            "_view_name": "LayoutView",
            "align_content": null,
            "align_items": null,
            "align_self": null,
            "border": null,
            "bottom": null,
            "display": null,
            "flex": null,
            "flex_flow": null,
            "grid_area": null,
            "grid_auto_columns": null,
            "grid_auto_flow": null,
            "grid_auto_rows": null,
            "grid_column": null,
            "grid_gap": null,
            "grid_row": null,
            "grid_template_areas": null,
            "grid_template_columns": null,
            "grid_template_rows": null,
            "height": null,
            "justify_content": null,
            "justify_items": null,
            "left": null,
            "margin": null,
            "max_height": null,
            "max_width": null,
            "min_height": null,
            "min_width": null,
            "object_fit": null,
            "object_position": null,
            "order": null,
            "overflow": null,
            "overflow_x": null,
            "overflow_y": null,
            "padding": null,
            "right": null,
            "top": null,
            "visibility": null,
            "width": null
          }
        },
        "4a6a11d4e04949bb9f5f8ed7b06e028a": {
          "model_module": "@jupyter-widgets/controls",
          "model_name": "DescriptionStyleModel",
          "model_module_version": "1.5.0",
          "state": {
            "_model_module": "@jupyter-widgets/controls",
            "_model_module_version": "1.5.0",
            "_model_name": "DescriptionStyleModel",
            "_view_count": null,
            "_view_module": "@jupyter-widgets/base",
            "_view_module_version": "1.2.0",
            "_view_name": "StyleView",
            "description_width": ""
          }
        }
      }
    }
  },
  "cells": [
    {
      "cell_type": "markdown",
      "metadata": {
        "id": "view-in-github",
        "colab_type": "text"
      },
      "source": [
        "<a href=\"https://colab.research.google.com/github/renatamontanhana/-KNN_Caso_pratico_dano_veicular/blob/main/M5A24_KNN_Caso_Pr%C3%A1tico_dano_veicular.ipynb\" target=\"_parent\"><img src=\"https://colab.research.google.com/assets/colab-badge.svg\" alt=\"Open In Colab\"/></a>"
      ]
    },
    {
      "cell_type": "markdown",
      "metadata": {
        "id": "WHSU8NShZedN"
      },
      "source": [
        "![alt text](https://encrypted-tbn0.gstatic.com/images?q=tbn%3AANd9GcTK4gQ9nhwHHaSXMHpeggWg7twwMCgb877smkRmtkmDeDoGF9Z6&usqp=CAU)"
      ]
    },
    {
      "cell_type": "markdown",
      "metadata": {
        "id": "7oiQVQi0AJ6D"
      },
      "source": [
        "# <font color='BLUE'>Cientista de Dados na Prática </font>\n",
        "\n",
        "# <font color='Purple'>Módulo 5 - Máquinas Preditivas</font>\n",
        "\n",
        "### <font color='GREY'> KNN - Vizinho mais Próximo </font>  \n",
        "\n",
        "\n",
        "### <font color='Black'> **Caso Prático 1** </font>\n",
        "\n"
      ]
    },
    {
      "cell_type": "markdown",
      "metadata": {
        "id": "Eny3aIZaku8i"
      },
      "source": [
        "#1° Problema de Negócio"
      ]
    },
    {
      "cell_type": "markdown",
      "metadata": {
        "id": "7K8qMC313GIW"
      },
      "source": [
        "Nesse caso prático, nós precisamos construir um classificador que avalia o Dano veicular por meio do algoritmo KNN.\n"
      ]
    },
    {
      "cell_type": "markdown",
      "metadata": {
        "id": "PzAHN0JzCKYd"
      },
      "source": [
        "![alt text](data:image/jpeg;base64,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)"
      ]
    },
    {
      "cell_type": "markdown",
      "metadata": {
        "id": "-O1cmFgSku8j"
      },
      "source": [
        "# 2° Análise Exploratória dos Dados\n"
      ]
    },
    {
      "cell_type": "code",
      "metadata": {
        "id": "YNC9Ao77ku8j"
      },
      "source": [
        "# Importando Bibliotecas de Visualização\n",
        "import ipywidgets as widgets\n",
        "from IPython.display import display\n",
        "\n",
        "style = {'Descrição_Variáveis': 'initial'}"
      ],
      "execution_count": 1,
      "outputs": []
    },
    {
      "cell_type": "code",
      "metadata": {
        "id": "6BZ-jLOunczC"
      },
      "source": [
        "# Importando Bibliotecas Essenciais\n",
        "import pandas as pd\n",
        "import numpy as np\n",
        "%matplotlib inline\n",
        "import matplotlib.pyplot as plt\n",
        "import seaborn as sns\n",
        "from sklearn import metrics"
      ],
      "execution_count": 2,
      "outputs": []
    },
    {
      "cell_type": "code",
      "metadata": {
        "id": "WKtERLr9n09B",
        "outputId": "3f3007a8-6d37-4854-89b4-508f9cc48086",
        "colab": {
          "base_uri": "https://localhost:8080/",
          "height": 206
        }
      },
      "source": [
        "#Importing dataset - Fonte de Dados\n",
        "file_name = '/content/dano.csv'\n",
        "\n",
        "dataset = pd.read_csv(file_name, delimiter=';')\n",
        "\n",
        "dataset.head()"
      ],
      "execution_count": 3,
      "outputs": [
        {
          "output_type": "execute_result",
          "data": {
            "text/plain": [
              "   ID_Veicular  Laterais  Dianteira  Traseira  Teto Dano_Veicular\n",
              "0            0       5.1        3.5       1.4   0.2     Dano-Alto\n",
              "1            1       4.9        3.0       1.4   0.2     Dano-Alto\n",
              "2            2       4.7        3.2       1.3   0.2     Dano-Alto\n",
              "3            3       4.6        3.1       1.5   0.2     Dano-Alto\n",
              "4            4       5.0        3.6       1.4   0.2     Dano-Alto"
            ],
            "text/html": [
              "\n",
              "  <div id=\"df-babd2d87-148c-425b-a29b-a9e4b3c35223\" class=\"colab-df-container\">\n",
              "    <div>\n",
              "<style scoped>\n",
              "    .dataframe tbody tr th:only-of-type {\n",
              "        vertical-align: middle;\n",
              "    }\n",
              "\n",
              "    .dataframe tbody tr th {\n",
              "        vertical-align: top;\n",
              "    }\n",
              "\n",
              "    .dataframe thead th {\n",
              "        text-align: right;\n",
              "    }\n",
              "</style>\n",
              "<table border=\"1\" class=\"dataframe\">\n",
              "  <thead>\n",
              "    <tr style=\"text-align: right;\">\n",
              "      <th></th>\n",
              "      <th>ID_Veicular</th>\n",
              "      <th>Laterais</th>\n",
              "      <th>Dianteira</th>\n",
              "      <th>Traseira</th>\n",
              "      <th>Teto</th>\n",
              "      <th>Dano_Veicular</th>\n",
              "    </tr>\n",
              "  </thead>\n",
              "  <tbody>\n",
              "    <tr>\n",
              "      <th>0</th>\n",
              "      <td>0</td>\n",
              "      <td>5.1</td>\n",
              "      <td>3.5</td>\n",
              "      <td>1.4</td>\n",
              "      <td>0.2</td>\n",
              "      <td>Dano-Alto</td>\n",
              "    </tr>\n",
              "    <tr>\n",
              "      <th>1</th>\n",
              "      <td>1</td>\n",
              "      <td>4.9</td>\n",
              "      <td>3.0</td>\n",
              "      <td>1.4</td>\n",
              "      <td>0.2</td>\n",
              "      <td>Dano-Alto</td>\n",
              "    </tr>\n",
              "    <tr>\n",
              "      <th>2</th>\n",
              "      <td>2</td>\n",
              "      <td>4.7</td>\n",
              "      <td>3.2</td>\n",
              "      <td>1.3</td>\n",
              "      <td>0.2</td>\n",
              "      <td>Dano-Alto</td>\n",
              "    </tr>\n",
              "    <tr>\n",
              "      <th>3</th>\n",
              "      <td>3</td>\n",
              "      <td>4.6</td>\n",
              "      <td>3.1</td>\n",
              "      <td>1.5</td>\n",
              "      <td>0.2</td>\n",
              "      <td>Dano-Alto</td>\n",
              "    </tr>\n",
              "    <tr>\n",
              "      <th>4</th>\n",
              "      <td>4</td>\n",
              "      <td>5.0</td>\n",
              "      <td>3.6</td>\n",
              "      <td>1.4</td>\n",
              "      <td>0.2</td>\n",
              "      <td>Dano-Alto</td>\n",
              "    </tr>\n",
              "  </tbody>\n",
              "</table>\n",
              "</div>\n",
              "    <div class=\"colab-df-buttons\">\n",
              "\n",
              "  <div class=\"colab-df-container\">\n",
              "    <button class=\"colab-df-convert\" onclick=\"convertToInteractive('df-babd2d87-148c-425b-a29b-a9e4b3c35223')\"\n",
              "            title=\"Convert this dataframe to an interactive table.\"\n",
              "            style=\"display:none;\">\n",
              "\n",
              "  <svg xmlns=\"http://www.w3.org/2000/svg\" height=\"24px\" viewBox=\"0 -960 960 960\">\n",
              "    <path d=\"M120-120v-720h720v720H120Zm60-500h600v-160H180v160Zm220 220h160v-160H400v160Zm0 220h160v-160H400v160ZM180-400h160v-160H180v160Zm440 0h160v-160H620v160ZM180-180h160v-160H180v160Zm440 0h160v-160H620v160Z\"/>\n",
              "  </svg>\n",
              "    </button>\n",
              "\n",
              "  <style>\n",
              "    .colab-df-container {\n",
              "      display:flex;\n",
              "      gap: 12px;\n",
              "    }\n",
              "\n",
              "    .colab-df-convert {\n",
              "      background-color: #E8F0FE;\n",
              "      border: none;\n",
              "      border-radius: 50%;\n",
              "      cursor: pointer;\n",
              "      display: none;\n",
              "      fill: #1967D2;\n",
              "      height: 32px;\n",
              "      padding: 0 0 0 0;\n",
              "      width: 32px;\n",
              "    }\n",
              "\n",
              "    .colab-df-convert:hover {\n",
              "      background-color: #E2EBFA;\n",
              "      box-shadow: 0px 1px 2px rgba(60, 64, 67, 0.3), 0px 1px 3px 1px rgba(60, 64, 67, 0.15);\n",
              "      fill: #174EA6;\n",
              "    }\n",
              "\n",
              "    .colab-df-buttons div {\n",
              "      margin-bottom: 4px;\n",
              "    }\n",
              "\n",
              "    [theme=dark] .colab-df-convert {\n",
              "      background-color: #3B4455;\n",
              "      fill: #D2E3FC;\n",
              "    }\n",
              "\n",
              "    [theme=dark] .colab-df-convert:hover {\n",
              "      background-color: #434B5C;\n",
              "      box-shadow: 0px 1px 3px 1px rgba(0, 0, 0, 0.15);\n",
              "      filter: drop-shadow(0px 1px 2px rgba(0, 0, 0, 0.3));\n",
              "      fill: #FFFFFF;\n",
              "    }\n",
              "  </style>\n",
              "\n",
              "    <script>\n",
              "      const buttonEl =\n",
              "        document.querySelector('#df-babd2d87-148c-425b-a29b-a9e4b3c35223 button.colab-df-convert');\n",
              "      buttonEl.style.display =\n",
              "        google.colab.kernel.accessAllowed ? 'block' : 'none';\n",
              "\n",
              "      async function convertToInteractive(key) {\n",
              "        const element = document.querySelector('#df-babd2d87-148c-425b-a29b-a9e4b3c35223');\n",
              "        const dataTable =\n",
              "          await google.colab.kernel.invokeFunction('convertToInteractive',\n",
              "                                                    [key], {});\n",
              "        if (!dataTable) return;\n",
              "\n",
              "        const docLinkHtml = 'Like what you see? Visit the ' +\n",
              "          '<a target=\"_blank\" href=https://colab.research.google.com/notebooks/data_table.ipynb>data table notebook</a>'\n",
              "          + ' to learn more about interactive tables.';\n",
              "        element.innerHTML = '';\n",
              "        dataTable['output_type'] = 'display_data';\n",
              "        await google.colab.output.renderOutput(dataTable, element);\n",
              "        const docLink = document.createElement('div');\n",
              "        docLink.innerHTML = docLinkHtml;\n",
              "        element.appendChild(docLink);\n",
              "      }\n",
              "    </script>\n",
              "  </div>\n",
              "\n",
              "\n",
              "<div id=\"df-dd9e1df1-0a1d-440b-94aa-6900bcae1cd8\">\n",
              "  <button class=\"colab-df-quickchart\" onclick=\"quickchart('df-dd9e1df1-0a1d-440b-94aa-6900bcae1cd8')\"\n",
              "            title=\"Suggest charts\"\n",
              "            style=\"display:none;\">\n",
              "\n",
              "<svg xmlns=\"http://www.w3.org/2000/svg\" height=\"24px\"viewBox=\"0 0 24 24\"\n",
              "     width=\"24px\">\n",
              "    <g>\n",
              "        <path d=\"M19 3H5c-1.1 0-2 .9-2 2v14c0 1.1.9 2 2 2h14c1.1 0 2-.9 2-2V5c0-1.1-.9-2-2-2zM9 17H7v-7h2v7zm4 0h-2V7h2v10zm4 0h-2v-4h2v4z\"/>\n",
              "    </g>\n",
              "</svg>\n",
              "  </button>\n",
              "\n",
              "<style>\n",
              "  .colab-df-quickchart {\n",
              "      --bg-color: #E8F0FE;\n",
              "      --fill-color: #1967D2;\n",
              "      --hover-bg-color: #E2EBFA;\n",
              "      --hover-fill-color: #174EA6;\n",
              "      --disabled-fill-color: #AAA;\n",
              "      --disabled-bg-color: #DDD;\n",
              "  }\n",
              "\n",
              "  [theme=dark] .colab-df-quickchart {\n",
              "      --bg-color: #3B4455;\n",
              "      --fill-color: #D2E3FC;\n",
              "      --hover-bg-color: #434B5C;\n",
              "      --hover-fill-color: #FFFFFF;\n",
              "      --disabled-bg-color: #3B4455;\n",
              "      --disabled-fill-color: #666;\n",
              "  }\n",
              "\n",
              "  .colab-df-quickchart {\n",
              "    background-color: var(--bg-color);\n",
              "    border: none;\n",
              "    border-radius: 50%;\n",
              "    cursor: pointer;\n",
              "    display: none;\n",
              "    fill: var(--fill-color);\n",
              "    height: 32px;\n",
              "    padding: 0;\n",
              "    width: 32px;\n",
              "  }\n",
              "\n",
              "  .colab-df-quickchart:hover {\n",
              "    background-color: var(--hover-bg-color);\n",
              "    box-shadow: 0 1px 2px rgba(60, 64, 67, 0.3), 0 1px 3px 1px rgba(60, 64, 67, 0.15);\n",
              "    fill: var(--button-hover-fill-color);\n",
              "  }\n",
              "\n",
              "  .colab-df-quickchart-complete:disabled,\n",
              "  .colab-df-quickchart-complete:disabled:hover {\n",
              "    background-color: var(--disabled-bg-color);\n",
              "    fill: var(--disabled-fill-color);\n",
              "    box-shadow: none;\n",
              "  }\n",
              "\n",
              "  .colab-df-spinner {\n",
              "    border: 2px solid var(--fill-color);\n",
              "    border-color: transparent;\n",
              "    border-bottom-color: var(--fill-color);\n",
              "    animation:\n",
              "      spin 1s steps(1) infinite;\n",
              "  }\n",
              "\n",
              "  @keyframes spin {\n",
              "    0% {\n",
              "      border-color: transparent;\n",
              "      border-bottom-color: var(--fill-color);\n",
              "      border-left-color: var(--fill-color);\n",
              "    }\n",
              "    20% {\n",
              "      border-color: transparent;\n",
              "      border-left-color: var(--fill-color);\n",
              "      border-top-color: var(--fill-color);\n",
              "    }\n",
              "    30% {\n",
              "      border-color: transparent;\n",
              "      border-left-color: var(--fill-color);\n",
              "      border-top-color: var(--fill-color);\n",
              "      border-right-color: var(--fill-color);\n",
              "    }\n",
              "    40% {\n",
              "      border-color: transparent;\n",
              "      border-right-color: var(--fill-color);\n",
              "      border-top-color: var(--fill-color);\n",
              "    }\n",
              "    60% {\n",
              "      border-color: transparent;\n",
              "      border-right-color: var(--fill-color);\n",
              "    }\n",
              "    80% {\n",
              "      border-color: transparent;\n",
              "      border-right-color: var(--fill-color);\n",
              "      border-bottom-color: var(--fill-color);\n",
              "    }\n",
              "    90% {\n",
              "      border-color: transparent;\n",
              "      border-bottom-color: var(--fill-color);\n",
              "    }\n",
              "  }\n",
              "</style>\n",
              "\n",
              "  <script>\n",
              "    async function quickchart(key) {\n",
              "      const quickchartButtonEl =\n",
              "        document.querySelector('#' + key + ' button');\n",
              "      quickchartButtonEl.disabled = true;  // To prevent multiple clicks.\n",
              "      quickchartButtonEl.classList.add('colab-df-spinner');\n",
              "      try {\n",
              "        const charts = await google.colab.kernel.invokeFunction(\n",
              "            'suggestCharts', [key], {});\n",
              "      } catch (error) {\n",
              "        console.error('Error during call to suggestCharts:', error);\n",
              "      }\n",
              "      quickchartButtonEl.classList.remove('colab-df-spinner');\n",
              "      quickchartButtonEl.classList.add('colab-df-quickchart-complete');\n",
              "    }\n",
              "    (() => {\n",
              "      let quickchartButtonEl =\n",
              "        document.querySelector('#df-dd9e1df1-0a1d-440b-94aa-6900bcae1cd8 button');\n",
              "      quickchartButtonEl.style.display =\n",
              "        google.colab.kernel.accessAllowed ? 'block' : 'none';\n",
              "    })();\n",
              "  </script>\n",
              "</div>\n",
              "\n",
              "    </div>\n",
              "  </div>\n"
            ]
          },
          "metadata": {},
          "execution_count": 3
        }
      ]
    },
    {
      "cell_type": "code",
      "metadata": {
        "id": "tSKaKAxHku8s",
        "colab": {
          "base_uri": "https://localhost:8080/"
        },
        "outputId": "e0ed6e87-4637-43c9-94df-0dba6f5dc44e"
      },
      "source": [
        "print(f\"Esse Dataset tem {dataset.shape[0]} linhas e {dataset.shape[1]} colunas.\")"
      ],
      "execution_count": 4,
      "outputs": [
        {
          "output_type": "stream",
          "name": "stdout",
          "text": [
            "Esse Dataset tem 150 linhas e 6 colunas.\n"
          ]
        }
      ]
    },
    {
      "cell_type": "code",
      "metadata": {
        "id": "G6JmL89Wku8u"
      },
      "source": [
        "#Gráfico de Visualização dos dados\n",
        "wig_col = widgets.Dropdown(\n",
        "                options=[col for col in dataset.columns.tolist() if col.startswith(('Laterais', 'Dianteira','Traseira','Teto'))],\n",
        "                description='Choose a Column to Plot vs. Attributes',\n",
        "                disabled=False,\n",
        "                layout=widgets.Layout(width='40%', height='40px'),\n",
        "                style=style)"
      ],
      "execution_count": 5,
      "outputs": []
    },
    {
      "cell_type": "code",
      "metadata": {
        "id": "6Wnwq2Taku82",
        "outputId": "5264a87f-7ca2-498d-cdbf-a84e4005a27d",
        "colab": {
          "base_uri": "https://localhost:8080/",
          "height": 817,
          "referenced_widgets": [
            "e1026eef6be343e0b47b8c56addea9da",
            "8d5d6be0143c4041b348bdf416ce4ca2",
            "95d05b3f20a54778944fa322617b1eff"
          ]
        }
      },
      "source": [
        "display(wig_col)\n",
        "\n",
        "sns.catplot(x=\"Dano_Veicular\", y=wig_col.value, kind=\"boxen\", data=dataset, height=8.27, aspect=11.7/8.27);"
      ],
      "execution_count": 6,
      "outputs": [
        {
          "output_type": "display_data",
          "data": {
            "text/plain": [
              "Dropdown(description='Choose a Column to Plot vs. Attributes', layout=Layout(height='40px', width='40%'), opti…"
            ],
            "application/vnd.jupyter.widget-view+json": {
              "version_major": 2,
              "version_minor": 0,
              "model_id": "e1026eef6be343e0b47b8c56addea9da"
            }
          },
          "metadata": {}
        },
        {
          "output_type": "display_data",
          "data": {
            "text/plain": [
              "<Figure size 1170x827 with 1 Axes>"
            ],
            "image/png": "[encoded data removed]"
          },
          "metadata": {}
        }
      ]
    },
    {
      "cell_type": "markdown",
      "metadata": {
        "id": "DM2nuyRTku81"
      },
      "source": [
        "# 3° Pré-Processamento dos Dados"
      ]
    },
    {
      "cell_type": "code",
      "metadata": {
        "id": "G5WuUWRFn4j8"
      },
      "source": [
        "#3 Separando as Variáveis de Entrada e Saída do Modelo\n",
        "X = dataset.iloc[:,:-1].values  #variáveis independentes\n",
        "y = dataset.iloc[:,-1].values  #Target/labe/class/vairável dependente"
      ],
      "execution_count": 7,
      "outputs": []
    },
    {
      "cell_type": "code",
      "metadata": {
        "id": "-bZ82kVbn7Ga",
        "outputId": "b402eff6-3a91-446d-b764-85b005359de2",
        "colab": {
          "base_uri": "https://localhost:8080/"
        }
      },
      "source": [
        "print(\"\\nVariáveis de Entrada da avaliação:\\n\\n\", X[:5])\n",
        "print(\"\\nResultado do Dano :\\n\\n\", y[:5])"
      ],
      "execution_count": 8,
      "outputs": [
        {
          "output_type": "stream",
          "name": "stdout",
          "text": [
            "\n",
            "Variáveis de Entrada da avaliação:\n",
            "\n",
            " [[0.  5.1 3.5 1.4 0.2]\n",
            " [1.  4.9 3.  1.4 0.2]\n",
            " [2.  4.7 3.2 1.3 0.2]\n",
            " [3.  4.6 3.1 1.5 0.2]\n",
            " [4.  5.  3.6 1.4 0.2]]\n",
            "\n",
            "Resultado do Dano :\n",
            "\n",
            " ['Dano-Alto' 'Dano-Alto' 'Dano-Alto' 'Dano-Alto' 'Dano-Alto']\n"
          ]
        }
      ]
    },
    {
      "cell_type": "markdown",
      "metadata": {
        "id": "1UN1Tr_yku9H"
      },
      "source": [
        "## Encode Classes\n",
        "\n",
        "- Transformando o Target em variável numérica para melhorar a performance do algoritmo"
      ]
    },
    {
      "cell_type": "code",
      "metadata": {
        "id": "W3iY6OF1ku9I"
      },
      "source": [
        "from sklearn.preprocessing import LabelEncoder\n",
        "labelencoder = LabelEncoder()\n",
        "dataset['Dano_Veicular'] = labelencoder.fit_transform(dataset['Dano_Veicular'])"
      ],
      "execution_count": 9,
      "outputs": []
    },
    {
      "cell_type": "code",
      "metadata": {
        "id": "ylCQTdSnku9K",
        "colab": {
          "base_uri": "https://localhost:8080/"
        },
        "outputId": "defdabaa-9b61-47e8-94e5-20416e004990"
      },
      "source": [
        "dataset['Dano_Veicular'].unique()"
      ],
      "execution_count": 10,
      "outputs": [
        {
          "output_type": "execute_result",
          "data": {
            "text/plain": [
              "array([0, 2, 1])"
            ]
          },
          "metadata": {},
          "execution_count": 10
        }
      ]
    },
    {
      "cell_type": "markdown",
      "metadata": {
        "id": "TyrZDLaZku9L"
      },
      "source": [
        "### Separando os dados entre Treino e Teste de forma interativa"
      ]
    },
    {
      "cell_type": "code",
      "metadata": {
        "id": "BFMIwI5Zn9MX",
        "outputId": "0644b4b0-56ae-48ae-ee95-fdf6b75b0698",
        "colab": {
          "base_uri": "https://localhost:8080/",
          "height": 49,
          "referenced_widgets": [
            "ff0ba4c9b4164eddad5bae89d4b50466",
            "e8963218df2e498cab65e30c987755ca",
            "08f79f9851c8489794abd8c59489a432"
          ]
        }
      },
      "source": [
        "#4 Creating training set and testing set\n",
        "from sklearn.model_selection import train_test_split\n",
        "test_size = widgets.FloatSlider(min=0.01, max=0.6, value=0.2, description=\"Test Size :\", tooltips=['Usually 20-30%'])\n",
        "display(test_size)"
      ],
      "execution_count": 11,
      "outputs": [
        {
          "output_type": "display_data",
          "data": {
            "text/plain": [
              "FloatSlider(value=0.2, description='Test Size :', max=0.6, min=0.01)"
            ],
            "application/vnd.jupyter.widget-view+json": {
              "version_major": 2,
              "version_minor": 0,
              "model_id": "ff0ba4c9b4164eddad5bae89d4b50466"
            }
          },
          "metadata": {}
        }
      ]
    },
    {
      "cell_type": "code",
      "metadata": {
        "id": "Q95yEPVNku9O"
      },
      "source": [
        "#Divide the dataset into Train and Test sets\n",
        "X_train, X_test, y_train, y_test = train_test_split(X ,y, test_size=test_size.value, random_state = 7)"
      ],
      "execution_count": 12,
      "outputs": []
    },
    {
      "cell_type": "code",
      "metadata": {
        "id": "YcY06YGDn_dz",
        "outputId": "fbc52e13-f861-4f81-99d3-e0674c1aabbf",
        "colab": {
          "base_uri": "https://localhost:8080/"
        }
      },
      "source": [
        "print(\"Dados de Treino :\\n----------------\\n\")\n",
        "print(\"X = \\n\", X_train[:2])\n",
        "print(\"y = \\n\", y_train[:2])\n",
        "\n",
        "print(\"\\n\\nDados de Teste :\\n----------------\\n\")\n",
        "print(\"X = \\n\",X_test[:2])\n",
        "print(\"y = \\n\", y_test[:2])"
      ],
      "execution_count": 13,
      "outputs": [
        {
          "output_type": "stream",
          "name": "stdout",
          "text": [
            "Dados de Treino :\n",
            "----------------\n",
            "\n",
            "X = \n",
            " [[126.    6.2   2.8   4.8   1.8]\n",
            " [ 79.    5.7   2.6   3.5   1. ]]\n",
            "y = \n",
            " ['Dano-Baixo' 'Dano-Medio']\n",
            "\n",
            "\n",
            "Dados de Teste :\n",
            "----------------\n",
            "\n",
            "X = \n",
            " [[149.    5.9   3.    5.1   1.8]\n",
            " [ 84.    5.4   3.    4.5   1.5]]\n",
            "y = \n",
            " ['Dano-Baixo' 'Dano-Medio']\n"
          ]
        }
      ]
    },
    {
      "cell_type": "code",
      "metadata": {
        "id": "TYVfb2fJku9U",
        "outputId": "16a1c162-d9a8-4c3a-fd2a-28bfa99b8e0a",
        "colab": {
          "base_uri": "https://localhost:8080/"
        }
      },
      "source": [
        "print(f\"Shape dos dados de treino é {X_train.shape}\")\n",
        "print(f\"Shape dos dados de teste é {X_test.shape}\")"
      ],
      "execution_count": 14,
      "outputs": [
        {
          "output_type": "stream",
          "name": "stdout",
          "text": [
            "Shape dos dados de treino é (120, 5)\n",
            "Shape dos dados de teste é (30, 5)\n"
          ]
        }
      ]
    },
    {
      "cell_type": "markdown",
      "metadata": {
        "id": "8prDFmADku9W"
      },
      "source": [
        "### Padronizando as Features - As variáveis explicativas (variáveis de entrada)\n"
      ]
    },
    {
      "cell_type": "code",
      "metadata": {
        "id": "zKzfUg-Chjc5",
        "colab": {
          "base_uri": "https://localhost:8080/",
          "height": 300
        },
        "outputId": "ccab53df-7eca-4768-82d2-f68fabbb3015"
      },
      "source": [
        "dataset.describe()"
      ],
      "execution_count": 15,
      "outputs": [
        {
          "output_type": "execute_result",
          "data": {
            "text/plain": [
              "       ID_Veicular    Laterais   Dianteira    Traseira        Teto  \\\n",
              "count   150.000000  150.000000  150.000000  150.000000  150.000000   \n",
              "mean     74.500000    5.843333    3.054000    3.758667    1.198667   \n",
              "std      43.445368    0.828066    0.433594    1.764420    0.763161   \n",
              "min       0.000000    4.300000    2.000000    1.000000    0.100000   \n",
              "25%      37.250000    5.100000    2.800000    1.600000    0.300000   \n",
              "50%      74.500000    5.800000    3.000000    4.350000    1.300000   \n",
              "75%     111.750000    6.400000    3.300000    5.100000    1.800000   \n",
              "max     149.000000    7.900000    4.400000    6.900000    2.500000   \n",
              "\n",
              "       Dano_Veicular  \n",
              "count     150.000000  \n",
              "mean        1.000000  \n",
              "std         0.819232  \n",
              "min         0.000000  \n",
              "25%         0.000000  \n",
              "50%         1.000000  \n",
              "75%         2.000000  \n",
              "max         2.000000  "
            ],
            "text/html": [
              "\n",
              "  <div id=\"df-29893583-df82-45cd-a594-142c5da64d9d\" class=\"colab-df-container\">\n",
              "    <div>\n",
              "<style scoped>\n",
              "    .dataframe tbody tr th:only-of-type {\n",
              "        vertical-align: middle;\n",
              "    }\n",
              "\n",
              "    .dataframe tbody tr th {\n",
              "        vertical-align: top;\n",
              "    }\n",
              "\n",
              "    .dataframe thead th {\n",
              "        text-align: right;\n",
              "    }\n",
              "</style>\n",
              "<table border=\"1\" class=\"dataframe\">\n",
              "  <thead>\n",
              "    <tr style=\"text-align: right;\">\n",
              "      <th></th>\n",
              "      <th>ID_Veicular</th>\n",
              "      <th>Laterais</th>\n",
              "      <th>Dianteira</th>\n",
              "      <th>Traseira</th>\n",
              "      <th>Teto</th>\n",
              "      <th>Dano_Veicular</th>\n",
              "    </tr>\n",
              "  </thead>\n",
              "  <tbody>\n",
              "    <tr>\n",
              "      <th>count</th>\n",
              "      <td>150.000000</td>\n",
              "      <td>150.000000</td>\n",
              "      <td>150.000000</td>\n",
              "      <td>150.000000</td>\n",
              "      <td>150.000000</td>\n",
              "      <td>150.000000</td>\n",
              "    </tr>\n",
              "    <tr>\n",
              "      <th>mean</th>\n",
              "      <td>74.500000</td>\n",
              "      <td>5.843333</td>\n",
              "      <td>3.054000</td>\n",
              "      <td>3.758667</td>\n",
              "      <td>1.198667</td>\n",
              "      <td>1.000000</td>\n",
              "    </tr>\n",
              "    <tr>\n",
              "      <th>std</th>\n",
              "      <td>43.445368</td>\n",
              "      <td>0.828066</td>\n",
              "      <td>0.433594</td>\n",
              "      <td>1.764420</td>\n",
              "      <td>0.763161</td>\n",
              "      <td>0.819232</td>\n",
              "    </tr>\n",
              "    <tr>\n",
              "      <th>min</th>\n",
              "      <td>0.000000</td>\n",
              "      <td>4.300000</td>\n",
              "      <td>2.000000</td>\n",
              "      <td>1.000000</td>\n",
              "      <td>0.100000</td>\n",
              "      <td>0.000000</td>\n",
              "    </tr>\n",
              "    <tr>\n",
              "      <th>25%</th>\n",
              "      <td>37.250000</td>\n",
              "      <td>5.100000</td>\n",
              "      <td>2.800000</td>\n",
              "      <td>1.600000</td>\n",
              "      <td>0.300000</td>\n",
              "      <td>0.000000</td>\n",
              "    </tr>\n",
              "    <tr>\n",
              "      <th>50%</th>\n",
              "      <td>74.500000</td>\n",
              "      <td>5.800000</td>\n",
              "      <td>3.000000</td>\n",
              "      <td>4.350000</td>\n",
              "      <td>1.300000</td>\n",
              "      <td>1.000000</td>\n",
              "    </tr>\n",
              "    <tr>\n",
              "      <th>75%</th>\n",
              "      <td>111.750000</td>\n",
              "      <td>6.400000</td>\n",
              "      <td>3.300000</td>\n",
              "      <td>5.100000</td>\n",
              "      <td>1.800000</td>\n",
              "      <td>2.000000</td>\n",
              "    </tr>\n",
              "    <tr>\n",
              "      <th>max</th>\n",
              "      <td>149.000000</td>\n",
              "      <td>7.900000</td>\n",
              "      <td>4.400000</td>\n",
              "      <td>6.900000</td>\n",
              "      <td>2.500000</td>\n",
              "      <td>2.000000</td>\n",
              "    </tr>\n",
              "  </tbody>\n",
              "</table>\n",
              "</div>\n",
              "    <div class=\"colab-df-buttons\">\n",
              "\n",
              "  <div class=\"colab-df-container\">\n",
              "    <button class=\"colab-df-convert\" onclick=\"convertToInteractive('df-29893583-df82-45cd-a594-142c5da64d9d')\"\n",
              "            title=\"Convert this dataframe to an interactive table.\"\n",
              "            style=\"display:none;\">\n",
              "\n",
              "  <svg xmlns=\"http://www.w3.org/2000/svg\" height=\"24px\" viewBox=\"0 -960 960 960\">\n",
              "    <path d=\"M120-120v-720h720v720H120Zm60-500h600v-160H180v160Zm220 220h160v-160H400v160Zm0 220h160v-160H400v160ZM180-400h160v-160H180v160Zm440 0h160v-160H620v160ZM180-180h160v-160H180v160Zm440 0h160v-160H620v160Z\"/>\n",
              "  </svg>\n",
              "    </button>\n",
              "\n",
              "  <style>\n",
              "    .colab-df-container {\n",
              "      display:flex;\n",
              "      gap: 12px;\n",
              "    }\n",
              "\n",
              "    .colab-df-convert {\n",
              "      background-color: #E8F0FE;\n",
              "      border: none;\n",
              "      border-radius: 50%;\n",
              "      cursor: pointer;\n",
              "      display: none;\n",
              "      fill: #1967D2;\n",
              "      height: 32px;\n",
              "      padding: 0 0 0 0;\n",
              "      width: 32px;\n",
              "    }\n",
              "\n",
              "    .colab-df-convert:hover {\n",
              "      background-color: #E2EBFA;\n",
              "      box-shadow: 0px 1px 2px rgba(60, 64, 67, 0.3), 0px 1px 3px 1px rgba(60, 64, 67, 0.15);\n",
              "      fill: #174EA6;\n",
              "    }\n",
              "\n",
              "    .colab-df-buttons div {\n",
              "      margin-bottom: 4px;\n",
              "    }\n",
              "\n",
              "    [theme=dark] .colab-df-convert {\n",
              "      background-color: #3B4455;\n",
              "      fill: #D2E3FC;\n",
              "    }\n",
              "\n",
              "    [theme=dark] .colab-df-convert:hover {\n",
              "      background-color: #434B5C;\n",
              "      box-shadow: 0px 1px 3px 1px rgba(0, 0, 0, 0.15);\n",
              "      filter: drop-shadow(0px 1px 2px rgba(0, 0, 0, 0.3));\n",
              "      fill: #FFFFFF;\n",
              "    }\n",
              "  </style>\n",
              "\n",
              "    <script>\n",
              "      const buttonEl =\n",
              "        document.querySelector('#df-29893583-df82-45cd-a594-142c5da64d9d button.colab-df-convert');\n",
              "      buttonEl.style.display =\n",
              "        google.colab.kernel.accessAllowed ? 'block' : 'none';\n",
              "\n",
              "      async function convertToInteractive(key) {\n",
              "        const element = document.querySelector('#df-29893583-df82-45cd-a594-142c5da64d9d');\n",
              "        const dataTable =\n",
              "          await google.colab.kernel.invokeFunction('convertToInteractive',\n",
              "                                                    [key], {});\n",
              "        if (!dataTable) return;\n",
              "\n",
              "        const docLinkHtml = 'Like what you see? Visit the ' +\n",
              "          '<a target=\"_blank\" href=https://colab.research.google.com/notebooks/data_table.ipynb>data table notebook</a>'\n",
              "          + ' to learn more about interactive tables.';\n",
              "        element.innerHTML = '';\n",
              "        dataTable['output_type'] = 'display_data';\n",
              "        await google.colab.output.renderOutput(dataTable, element);\n",
              "        const docLink = document.createElement('div');\n",
              "        docLink.innerHTML = docLinkHtml;\n",
              "        element.appendChild(docLink);\n",
              "      }\n",
              "    </script>\n",
              "  </div>\n",
              "\n",
              "\n",
              "<div id=\"df-a29a33a5-3c1c-42cf-a689-6946387dafbb\">\n",
              "  <button class=\"colab-df-quickchart\" onclick=\"quickchart('df-a29a33a5-3c1c-42cf-a689-6946387dafbb')\"\n",
              "            title=\"Suggest charts\"\n",
              "            style=\"display:none;\">\n",
              "\n",
              "<svg xmlns=\"http://www.w3.org/2000/svg\" height=\"24px\"viewBox=\"0 0 24 24\"\n",
              "     width=\"24px\">\n",
              "    <g>\n",
              "        <path d=\"M19 3H5c-1.1 0-2 .9-2 2v14c0 1.1.9 2 2 2h14c1.1 0 2-.9 2-2V5c0-1.1-.9-2-2-2zM9 17H7v-7h2v7zm4 0h-2V7h2v10zm4 0h-2v-4h2v4z\"/>\n",
              "    </g>\n",
              "</svg>\n",
              "  </button>\n",
              "\n",
              "<style>\n",
              "  .colab-df-quickchart {\n",
              "      --bg-color: #E8F0FE;\n",
              "      --fill-color: #1967D2;\n",
              "      --hover-bg-color: #E2EBFA;\n",
              "      --hover-fill-color: #174EA6;\n",
              "      --disabled-fill-color: #AAA;\n",
              "      --disabled-bg-color: #DDD;\n",
              "  }\n",
              "\n",
              "  [theme=dark] .colab-df-quickchart {\n",
              "      --bg-color: #3B4455;\n",
              "      --fill-color: #D2E3FC;\n",
              "      --hover-bg-color: #434B5C;\n",
              "      --hover-fill-color: #FFFFFF;\n",
              "      --disabled-bg-color: #3B4455;\n",
              "      --disabled-fill-color: #666;\n",
              "  }\n",
              "\n",
              "  .colab-df-quickchart {\n",
              "    background-color: var(--bg-color);\n",
              "    border: none;\n",
              "    border-radius: 50%;\n",
              "    cursor: pointer;\n",
              "    display: none;\n",
              "    fill: var(--fill-color);\n",
              "    height: 32px;\n",
              "    padding: 0;\n",
              "    width: 32px;\n",
              "  }\n",
              "\n",
              "  .colab-df-quickchart:hover {\n",
              "    background-color: var(--hover-bg-color);\n",
              "    box-shadow: 0 1px 2px rgba(60, 64, 67, 0.3), 0 1px 3px 1px rgba(60, 64, 67, 0.15);\n",
              "    fill: var(--button-hover-fill-color);\n",
              "  }\n",
              "\n",
              "  .colab-df-quickchart-complete:disabled,\n",
              "  .colab-df-quickchart-complete:disabled:hover {\n",
              "    background-color: var(--disabled-bg-color);\n",
              "    fill: var(--disabled-fill-color);\n",
              "    box-shadow: none;\n",
              "  }\n",
              "\n",
              "  .colab-df-spinner {\n",
              "    border: 2px solid var(--fill-color);\n",
              "    border-color: transparent;\n",
              "    border-bottom-color: var(--fill-color);\n",
              "    animation:\n",
              "      spin 1s steps(1) infinite;\n",
              "  }\n",
              "\n",
              "  @keyframes spin {\n",
              "    0% {\n",
              "      border-color: transparent;\n",
              "      border-bottom-color: var(--fill-color);\n",
              "      border-left-color: var(--fill-color);\n",
              "    }\n",
              "    20% {\n",
              "      border-color: transparent;\n",
              "      border-left-color: var(--fill-color);\n",
              "      border-top-color: var(--fill-color);\n",
              "    }\n",
              "    30% {\n",
              "      border-color: transparent;\n",
              "      border-left-color: var(--fill-color);\n",
              "      border-top-color: var(--fill-color);\n",
              "      border-right-color: var(--fill-color);\n",
              "    }\n",
              "    40% {\n",
              "      border-color: transparent;\n",
              "      border-right-color: var(--fill-color);\n",
              "      border-top-color: var(--fill-color);\n",
              "    }\n",
              "    60% {\n",
              "      border-color: transparent;\n",
              "      border-right-color: var(--fill-color);\n",
              "    }\n",
              "    80% {\n",
              "      border-color: transparent;\n",
              "      border-right-color: var(--fill-color);\n",
              "      border-bottom-color: var(--fill-color);\n",
              "    }\n",
              "    90% {\n",
              "      border-color: transparent;\n",
              "      border-bottom-color: var(--fill-color);\n",
              "    }\n",
              "  }\n",
              "</style>\n",
              "\n",
              "  <script>\n",
              "    async function quickchart(key) {\n",
              "      const quickchartButtonEl =\n",
              "        document.querySelector('#' + key + ' button');\n",
              "      quickchartButtonEl.disabled = true;  // To prevent multiple clicks.\n",
              "      quickchartButtonEl.classList.add('colab-df-spinner');\n",
              "      try {\n",
              "        const charts = await google.colab.kernel.invokeFunction(\n",
              "            'suggestCharts', [key], {});\n",
              "      } catch (error) {\n",
              "        console.error('Error during call to suggestCharts:', error);\n",
              "      }\n",
              "      quickchartButtonEl.classList.remove('colab-df-spinner');\n",
              "      quickchartButtonEl.classList.add('colab-df-quickchart-complete');\n",
              "    }\n",
              "    (() => {\n",
              "      let quickchartButtonEl =\n",
              "        document.querySelector('#df-a29a33a5-3c1c-42cf-a689-6946387dafbb button');\n",
              "      quickchartButtonEl.style.display =\n",
              "        google.colab.kernel.accessAllowed ? 'block' : 'none';\n",
              "    })();\n",
              "  </script>\n",
              "</div>\n",
              "\n",
              "    </div>\n",
              "  </div>\n"
            ]
          },
          "metadata": {},
          "execution_count": 15
        }
      ]
    },
    {
      "cell_type": "code",
      "metadata": {
        "id": "HVa6cZd8ku9W",
        "outputId": "22b2be9b-d8fc-4e3c-b204-8852c161fad9",
        "colab": {
          "base_uri": "https://localhost:8080/"
        }
      },
      "source": [
        "#Feature scaling\n",
        "from sklearn.preprocessing import StandardScaler\n",
        "sc = StandardScaler()\n",
        "\n",
        "X_train = sc.fit_transform(X_train)\n",
        "X_test = sc.transform(X_test)\n",
        "\n",
        "print(\"\\n-------------------------\\nDataset depois da padronização:\\n-------------------------\\n\", )\n",
        "\n",
        "print(\"\\nX_train :\\n\", X_train[:5])\n",
        "print(\"-------------------------\")\n",
        "print(\"\\nX_test :\\n\", X_test[:5])"
      ],
      "execution_count": 16,
      "outputs": [
        {
          "output_type": "stream",
          "name": "stdout",
          "text": [
            "\n",
            "-------------------------\n",
            "Dataset depois da padronização:\n",
            "-------------------------\n",
            "\n",
            "\n",
            "X_train :\n",
            " [[ 1.20732325  0.43325894 -0.59653573  0.62601116  0.82081788]\n",
            " [ 0.14948526 -0.15754871 -1.05688485 -0.09737951 -0.21464226]\n",
            " [-1.13342464 -1.45732553  1.24486074 -1.48851543 -1.2501024 ]\n",
            " [ 1.49991673  1.26038965  0.09398794  0.95988378  1.20911544]\n",
            " [ 0.03694931  0.669582   -0.36636117  0.34778398  0.17365529]]\n",
            "-------------------------\n",
            "\n",
            "X_test :\n",
            " [[ 1.72498864  0.07877435 -0.13618661  0.79294747  0.82081788]\n",
            " [ 0.26202122 -0.51203329 -0.13618661  0.45907485  0.43252033]\n",
            " [-0.72829519 -0.98467941  1.01468618 -1.32157912 -1.12066988]\n",
            " [-0.14310822 -0.27571024 -0.13618661  0.45907485  0.43252033]\n",
            " [ 0.75717942 -1.10284094 -1.28705941  0.45907485  0.69138537]]\n"
          ]
        }
      ]
    },
    {
      "cell_type": "markdown",
      "metadata": {
        "id": "Y3rduQxEku9Y"
      },
      "source": [
        "# 4° Construindo a Máquina Preditiva com o KNN Classifier"
      ]
    },
    {
      "cell_type": "code",
      "metadata": {
        "id": "JUVx8SX8ku9Y",
        "outputId": "839ccf59-da69-4c43-ac6e-da5e91df1776",
        "colab": {
          "base_uri": "https://localhost:8080/",
          "height": 49,
          "referenced_widgets": [
            "f73ac3a7832743cb8fb363930fc0cf22",
            "d2719269af9a477b9e3fd22e81f7b5d8",
            "4a6a11d4e04949bb9f5f8ed7b06e028a"
          ]
        }
      },
      "source": [
        "# import KNN library\n",
        "from sklearn.neighbors import KNeighborsClassifier\n",
        "\n",
        "# configure params for the model.\n",
        "neigh_wig = widgets.Dropdown(options=[1, 10, 30, 100],\n",
        "                             description=\"Number of Neighbours = \", style=style)\n",
        "\n",
        "display(neigh_wig)"
      ],
      "execution_count": 17,
      "outputs": [
        {
          "output_type": "display_data",
          "data": {
            "text/plain": [
              "Dropdown(description='Number of Neighbours = ', options=(1, 10, 30, 100), value=1)"
            ],
            "application/vnd.jupyter.widget-view+json": {
              "version_major": 2,
              "version_minor": 0,
              "model_id": "f73ac3a7832743cb8fb363930fc0cf22"
            }
          },
          "metadata": {}
        }
      ]
    },
    {
      "cell_type": "markdown",
      "metadata": {
        "id": "3KVynbWWku9a"
      },
      "source": [
        "### Treinando a Máquina Preditiva"
      ]
    },
    {
      "cell_type": "code",
      "metadata": {
        "id": "8XbYFyk8oCrH",
        "colab": {
          "base_uri": "https://localhost:8080/"
        },
        "outputId": "17b1ece9-a1cd-48a4-ef78-9625928d7859"
      },
      "source": [
        "Maquina_Preditiva = KNeighborsClassifier(n_neighbors=neigh_wig.value)\n",
        "\n",
        "#Feed the training data to the classifier\n",
        "Maquina_Preditiva = Maquina_Preditiva.fit(X_train,y_train)\n",
        "\n",
        "#Predicting the species for test set\n",
        "y_pred = Maquina_Preditiva.predict(X_test)\n",
        "\n",
        "print(\"\\n---------------------------\\n\")\n",
        "print(\"Valores Preditos com dados de Teste :\\n\",y_pred)\n",
        "print(\"\\n---------------------------\\n\")\n",
        "print(\"Valores Reais com dados de teste :\\n\",y_test)\n"
      ],
      "execution_count": 18,
      "outputs": [
        {
          "output_type": "stream",
          "name": "stdout",
          "text": [
            "\n",
            "---------------------------\n",
            "\n",
            "Valores Preditos com dados de Teste :\n",
            " ['Dano-Baixo' 'Dano-Medio' 'Dano-Alto' 'Dano-Medio' 'Dano-Medio'\n",
            " 'Dano-Medio' 'Dano-Medio' 'Dano-Medio' 'Dano-Alto' 'Dano-Medio'\n",
            " 'Dano-Medio' 'Dano-Medio' 'Dano-Alto' 'Dano-Baixo' 'Dano-Alto'\n",
            " 'Dano-Medio' 'Dano-Baixo' 'Dano-Baixo' 'Dano-Alto' 'Dano-Alto'\n",
            " 'Dano-Medio' 'Dano-Baixo' 'Dano-Medio' 'Dano-Medio' 'Dano-Baixo'\n",
            " 'Dano-Baixo' 'Dano-Medio' 'Dano-Medio' 'Dano-Baixo' 'Dano-Baixo']\n",
            "\n",
            "---------------------------\n",
            "\n",
            "Valores Reais com dados de teste :\n",
            " ['Dano-Baixo' 'Dano-Medio' 'Dano-Alto' 'Dano-Medio' 'Dano-Baixo'\n",
            " 'Dano-Alto' 'Dano-Medio' 'Dano-Medio' 'Dano-Alto' 'Dano-Medio'\n",
            " 'Dano-Medio' 'Dano-Medio' 'Dano-Alto' 'Dano-Baixo' 'Dano-Alto'\n",
            " 'Dano-Medio' 'Dano-Baixo' 'Dano-Baixo' 'Dano-Alto' 'Dano-Alto'\n",
            " 'Dano-Medio' 'Dano-Baixo' 'Dano-Medio' 'Dano-Baixo' 'Dano-Baixo'\n",
            " 'Dano-Baixo' 'Dano-Medio' 'Dano-Medio' 'Dano-Baixo' 'Dano-Baixo']\n"
          ]
        }
      ]
    },
    {
      "cell_type": "markdown",
      "metadata": {
        "id": "7zs6B8NF5asB"
      },
      "source": [
        "#5° Avaliando a Máquina Preditiva"
      ]
    },
    {
      "cell_type": "code",
      "metadata": {
        "id": "ZAwiJVWuoHEX",
        "colab": {
          "base_uri": "https://localhost:8080/"
        },
        "outputId": "4fdb6588-9b41-429c-8790-a48634d1c6a8"
      },
      "source": [
        "#8 Calculando a Acurácia\n",
        "from sklearn import metrics\n",
        "print(\"Acurácia da Máquina = \", metrics.accuracy_score(y_test, y_pred))\n",
        "\n"
      ],
      "execution_count": 19,
      "outputs": [
        {
          "output_type": "stream",
          "name": "stdout",
          "text": [
            "Acurácia da Máquina =  0.9\n"
          ]
        }
      ]
    },
    {
      "cell_type": "code",
      "metadata": {
        "id": "dIlExZQVjiTL",
        "colab": {
          "base_uri": "https://localhost:8080/",
          "height": 1000
        },
        "outputId": "f5b40aa9-5c89-49e4-f42c-ead54af47224"
      },
      "source": [
        "#9 Comparando Real e Predito com dados de Teste\n",
        "print(\"\\nReal vs Predito \\n------------------------------\\n\")\n",
        "error_df = pd.DataFrame({\"Real\" : y_test,\n",
        "                         \"Predito\" : y_pred})\n",
        "\n",
        "error_df"
      ],
      "execution_count": 20,
      "outputs": [
        {
          "output_type": "stream",
          "name": "stdout",
          "text": [
            "\n",
            "Real vs Predito \n",
            "------------------------------\n",
            "\n"
          ]
        },
        {
          "output_type": "execute_result",
          "data": {
            "text/plain": [
              "          Real     Predito\n",
              "0   Dano-Baixo  Dano-Baixo\n",
              "1   Dano-Medio  Dano-Medio\n",
              "2    Dano-Alto   Dano-Alto\n",
              "3   Dano-Medio  Dano-Medio\n",
              "4   Dano-Baixo  Dano-Medio\n",
              "5    Dano-Alto  Dano-Medio\n",
              "6   Dano-Medio  Dano-Medio\n",
              "7   Dano-Medio  Dano-Medio\n",
              "8    Dano-Alto   Dano-Alto\n",
              "9   Dano-Medio  Dano-Medio\n",
              "10  Dano-Medio  Dano-Medio\n",
              "11  Dano-Medio  Dano-Medio\n",
              "12   Dano-Alto   Dano-Alto\n",
              "13  Dano-Baixo  Dano-Baixo\n",
              "14   Dano-Alto   Dano-Alto\n",
              "15  Dano-Medio  Dano-Medio\n",
              "16  Dano-Baixo  Dano-Baixo\n",
              "17  Dano-Baixo  Dano-Baixo\n",
              "18   Dano-Alto   Dano-Alto\n",
              "19   Dano-Alto   Dano-Alto\n",
              "20  Dano-Medio  Dano-Medio\n",
              "21  Dano-Baixo  Dano-Baixo\n",
              "22  Dano-Medio  Dano-Medio\n",
              "23  Dano-Baixo  Dano-Medio\n",
              "24  Dano-Baixo  Dano-Baixo\n",
              "25  Dano-Baixo  Dano-Baixo\n",
              "26  Dano-Medio  Dano-Medio\n",
              "27  Dano-Medio  Dano-Medio\n",
              "28  Dano-Baixo  Dano-Baixo\n",
              "29  Dano-Baixo  Dano-Baixo"
            ],
            "text/html": [
              "\n",
              "  <div id=\"df-d7857aae-480b-4478-a696-cd3ff83340d4\" class=\"colab-df-container\">\n",
              "    <div>\n",
              "<style scoped>\n",
              "    .dataframe tbody tr th:only-of-type {\n",
              "        vertical-align: middle;\n",
              "    }\n",
              "\n",
              "    .dataframe tbody tr th {\n",
              "        vertical-align: top;\n",
              "    }\n",
              "\n",
              "    .dataframe thead th {\n",
              "        text-align: right;\n",
              "    }\n",
              "</style>\n",
              "<table border=\"1\" class=\"dataframe\">\n",
              "  <thead>\n",
              "    <tr style=\"text-align: right;\">\n",
              "      <th></th>\n",
              "      <th>Real</th>\n",
              "      <th>Predito</th>\n",
              "    </tr>\n",
              "  </thead>\n",
              "  <tbody>\n",
              "    <tr>\n",
              "      <th>0</th>\n",
              "      <td>Dano-Baixo</td>\n",
              "      <td>Dano-Baixo</td>\n",
              "    </tr>\n",
              "    <tr>\n",
              "      <th>1</th>\n",
              "      <td>Dano-Medio</td>\n",
              "      <td>Dano-Medio</td>\n",
              "    </tr>\n",
              "    <tr>\n",
              "      <th>2</th>\n",
              "      <td>Dano-Alto</td>\n",
              "      <td>Dano-Alto</td>\n",
              "    </tr>\n",
              "    <tr>\n",
              "      <th>3</th>\n",
              "      <td>Dano-Medio</td>\n",
              "      <td>Dano-Medio</td>\n",
              "    </tr>\n",
              "    <tr>\n",
              "      <th>4</th>\n",
              "      <td>Dano-Baixo</td>\n",
              "      <td>Dano-Medio</td>\n",
              "    </tr>\n",
              "    <tr>\n",
              "      <th>5</th>\n",
              "      <td>Dano-Alto</td>\n",
              "      <td>Dano-Medio</td>\n",
              "    </tr>\n",
              "    <tr>\n",
              "      <th>6</th>\n",
              "      <td>Dano-Medio</td>\n",
              "      <td>Dano-Medio</td>\n",
              "    </tr>\n",
              "    <tr>\n",
              "      <th>7</th>\n",
              "      <td>Dano-Medio</td>\n",
              "      <td>Dano-Medio</td>\n",
              "    </tr>\n",
              "    <tr>\n",
              "      <th>8</th>\n",
              "      <td>Dano-Alto</td>\n",
              "      <td>Dano-Alto</td>\n",
              "    </tr>\n",
              "    <tr>\n",
              "      <th>9</th>\n",
              "      <td>Dano-Medio</td>\n",
              "      <td>Dano-Medio</td>\n",
              "    </tr>\n",
              "    <tr>\n",
              "      <th>10</th>\n",
              "      <td>Dano-Medio</td>\n",
              "      <td>Dano-Medio</td>\n",
              "    </tr>\n",
              "    <tr>\n",
              "      <th>11</th>\n",
              "      <td>Dano-Medio</td>\n",
              "      <td>Dano-Medio</td>\n",
              "    </tr>\n",
              "    <tr>\n",
              "      <th>12</th>\n",
              "      <td>Dano-Alto</td>\n",
              "      <td>Dano-Alto</td>\n",
              "    </tr>\n",
              "    <tr>\n",
              "      <th>13</th>\n",
              "      <td>Dano-Baixo</td>\n",
              "      <td>Dano-Baixo</td>\n",
              "    </tr>\n",
              "    <tr>\n",
              "      <th>14</th>\n",
              "      <td>Dano-Alto</td>\n",
              "      <td>Dano-Alto</td>\n",
              "    </tr>\n",
              "    <tr>\n",
              "      <th>15</th>\n",
              "      <td>Dano-Medio</td>\n",
              "      <td>Dano-Medio</td>\n",
              "    </tr>\n",
              "    <tr>\n",
              "      <th>16</th>\n",
              "      <td>Dano-Baixo</td>\n",
              "      <td>Dano-Baixo</td>\n",
              "    </tr>\n",
              "    <tr>\n",
              "      <th>17</th>\n",
              "      <td>Dano-Baixo</td>\n",
              "      <td>Dano-Baixo</td>\n",
              "    </tr>\n",
              "    <tr>\n",
              "      <th>18</th>\n",
              "      <td>Dano-Alto</td>\n",
              "      <td>Dano-Alto</td>\n",
              "    </tr>\n",
              "    <tr>\n",
              "      <th>19</th>\n",
              "      <td>Dano-Alto</td>\n",
              "      <td>Dano-Alto</td>\n",
              "    </tr>\n",
              "    <tr>\n",
              "      <th>20</th>\n",
              "      <td>Dano-Medio</td>\n",
              "      <td>Dano-Medio</td>\n",
              "    </tr>\n",
              "    <tr>\n",
              "      <th>21</th>\n",
              "      <td>Dano-Baixo</td>\n",
              "      <td>Dano-Baixo</td>\n",
              "    </tr>\n",
              "    <tr>\n",
              "      <th>22</th>\n",
              "      <td>Dano-Medio</td>\n",
              "      <td>Dano-Medio</td>\n",
              "    </tr>\n",
              "    <tr>\n",
              "      <th>23</th>\n",
              "      <td>Dano-Baixo</td>\n",
              "      <td>Dano-Medio</td>\n",
              "    </tr>\n",
              "    <tr>\n",
              "      <th>24</th>\n",
              "      <td>Dano-Baixo</td>\n",
              "      <td>Dano-Baixo</td>\n",
              "    </tr>\n",
              "    <tr>\n",
              "      <th>25</th>\n",
              "      <td>Dano-Baixo</td>\n",
              "      <td>Dano-Baixo</td>\n",
              "    </tr>\n",
              "    <tr>\n",
              "      <th>26</th>\n",
              "      <td>Dano-Medio</td>\n",
              "      <td>Dano-Medio</td>\n",
              "    </tr>\n",
              "    <tr>\n",
              "      <th>27</th>\n",
              "      <td>Dano-Medio</td>\n",
              "      <td>Dano-Medio</td>\n",
              "    </tr>\n",
              "    <tr>\n",
              "      <th>28</th>\n",
              "      <td>Dano-Baixo</td>\n",
              "      <td>Dano-Baixo</td>\n",
              "    </tr>\n",
              "    <tr>\n",
              "      <th>29</th>\n",
              "      <td>Dano-Baixo</td>\n",
              "      <td>Dano-Baixo</td>\n",
              "    </tr>\n",
              "  </tbody>\n",
              "</table>\n",
              "</div>\n",
              "    <div class=\"colab-df-buttons\">\n",
              "\n",
              "  <div class=\"colab-df-container\">\n",
              "    <button class=\"colab-df-convert\" onclick=\"convertToInteractive('df-d7857aae-480b-4478-a696-cd3ff83340d4')\"\n",
              "            title=\"Convert this dataframe to an interactive table.\"\n",
              "            style=\"display:none;\">\n",
              "\n",
              "  <svg xmlns=\"http://www.w3.org/2000/svg\" height=\"24px\" viewBox=\"0 -960 960 960\">\n",
              "    <path d=\"M120-120v-720h720v720H120Zm60-500h600v-160H180v160Zm220 220h160v-160H400v160Zm0 220h160v-160H400v160ZM180-400h160v-160H180v160Zm440 0h160v-160H620v160ZM180-180h160v-160H180v160Zm440 0h160v-160H620v160Z\"/>\n",
              "  </svg>\n",
              "    </button>\n",
              "\n",
              "  <style>\n",
              "    .colab-df-container {\n",
              "      display:flex;\n",
              "      gap: 12px;\n",
              "    }\n",
              "\n",
              "    .colab-df-convert {\n",
              "      background-color: #E8F0FE;\n",
              "      border: none;\n",
              "      border-radius: 50%;\n",
              "      cursor: pointer;\n",
              "      display: none;\n",
              "      fill: #1967D2;\n",
              "      height: 32px;\n",
              "      padding: 0 0 0 0;\n",
              "      width: 32px;\n",
              "    }\n",
              "\n",
              "    .colab-df-convert:hover {\n",
              "      background-color: #E2EBFA;\n",
              "      box-shadow: 0px 1px 2px rgba(60, 64, 67, 0.3), 0px 1px 3px 1px rgba(60, 64, 67, 0.15);\n",
              "      fill: #174EA6;\n",
              "    }\n",
              "\n",
              "    .colab-df-buttons div {\n",
              "      margin-bottom: 4px;\n",
              "    }\n",
              "\n",
              "    [theme=dark] .colab-df-convert {\n",
              "      background-color: #3B4455;\n",
              "      fill: #D2E3FC;\n",
              "    }\n",
              "\n",
              "    [theme=dark] .colab-df-convert:hover {\n",
              "      background-color: #434B5C;\n",
              "      box-shadow: 0px 1px 3px 1px rgba(0, 0, 0, 0.15);\n",
              "      filter: drop-shadow(0px 1px 2px rgba(0, 0, 0, 0.3));\n",
              "      fill: #FFFFFF;\n",
              "    }\n",
              "  </style>\n",
              "\n",
              "    <script>\n",
              "      const buttonEl =\n",
              "        document.querySelector('#df-d7857aae-480b-4478-a696-cd3ff83340d4 button.colab-df-convert');\n",
              "      buttonEl.style.display =\n",
              "        google.colab.kernel.accessAllowed ? 'block' : 'none';\n",
              "\n",
              "      async function convertToInteractive(key) {\n",
              "        const element = document.querySelector('#df-d7857aae-480b-4478-a696-cd3ff83340d4');\n",
              "        const dataTable =\n",
              "          await google.colab.kernel.invokeFunction('convertToInteractive',\n",
              "                                                    [key], {});\n",
              "        if (!dataTable) return;\n",
              "\n",
              "        const docLinkHtml = 'Like what you see? Visit the ' +\n",
              "          '<a target=\"_blank\" href=https://colab.research.google.com/notebooks/data_table.ipynb>data table notebook</a>'\n",
              "          + ' to learn more about interactive tables.';\n",
              "        element.innerHTML = '';\n",
              "        dataTable['output_type'] = 'display_data';\n",
              "        await google.colab.output.renderOutput(dataTable, element);\n",
              "        const docLink = document.createElement('div');\n",
              "        docLink.innerHTML = docLinkHtml;\n",
              "        element.appendChild(docLink);\n",
              "      }\n",
              "    </script>\n",
              "  </div>\n",
              "\n",
              "\n",
              "<div id=\"df-4e922688-b2be-4d2b-a480-0dfb1ccfc2dd\">\n",
              "  <button class=\"colab-df-quickchart\" onclick=\"quickchart('df-4e922688-b2be-4d2b-a480-0dfb1ccfc2dd')\"\n",
              "            title=\"Suggest charts\"\n",
              "            style=\"display:none;\">\n",
              "\n",
              "<svg xmlns=\"http://www.w3.org/2000/svg\" height=\"24px\"viewBox=\"0 0 24 24\"\n",
              "     width=\"24px\">\n",
              "    <g>\n",
              "        <path d=\"M19 3H5c-1.1 0-2 .9-2 2v14c0 1.1.9 2 2 2h14c1.1 0 2-.9 2-2V5c0-1.1-.9-2-2-2zM9 17H7v-7h2v7zm4 0h-2V7h2v10zm4 0h-2v-4h2v4z\"/>\n",
              "    </g>\n",
              "</svg>\n",
              "  </button>\n",
              "\n",
              "<style>\n",
              "  .colab-df-quickchart {\n",
              "      --bg-color: #E8F0FE;\n",
              "      --fill-color: #1967D2;\n",
              "      --hover-bg-color: #E2EBFA;\n",
              "      --hover-fill-color: #174EA6;\n",
              "      --disabled-fill-color: #AAA;\n",
              "      --disabled-bg-color: #DDD;\n",
              "  }\n",
              "\n",
              "  [theme=dark] .colab-df-quickchart {\n",
              "      --bg-color: #3B4455;\n",
              "      --fill-color: #D2E3FC;\n",
              "      --hover-bg-color: #434B5C;\n",
              "      --hover-fill-color: #FFFFFF;\n",
              "      --disabled-bg-color: #3B4455;\n",
              "      --disabled-fill-color: #666;\n",
              "  }\n",
              "\n",
              "  .colab-df-quickchart {\n",
              "    background-color: var(--bg-color);\n",
              "    border: none;\n",
              "    border-radius: 50%;\n",
              "    cursor: pointer;\n",
              "    display: none;\n",
              "    fill: var(--fill-color);\n",
              "    height: 32px;\n",
              "    padding: 0;\n",
              "    width: 32px;\n",
              "  }\n",
              "\n",
              "  .colab-df-quickchart:hover {\n",
              "    background-color: var(--hover-bg-color);\n",
              "    box-shadow: 0 1px 2px rgba(60, 64, 67, 0.3), 0 1px 3px 1px rgba(60, 64, 67, 0.15);\n",
              "    fill: var(--button-hover-fill-color);\n",
              "  }\n",
              "\n",
              "  .colab-df-quickchart-complete:disabled,\n",
              "  .colab-df-quickchart-complete:disabled:hover {\n",
              "    background-color: var(--disabled-bg-color);\n",
              "    fill: var(--disabled-fill-color);\n",
              "    box-shadow: none;\n",
              "  }\n",
              "\n",
              "  .colab-df-spinner {\n",
              "    border: 2px solid var(--fill-color);\n",
              "    border-color: transparent;\n",
              "    border-bottom-color: var(--fill-color);\n",
              "    animation:\n",
              "      spin 1s steps(1) infinite;\n",
              "  }\n",
              "\n",
              "  @keyframes spin {\n",
              "    0% {\n",
              "      border-color: transparent;\n",
              "      border-bottom-color: var(--fill-color);\n",
              "      border-left-color: var(--fill-color);\n",
              "    }\n",
              "    20% {\n",
              "      border-color: transparent;\n",
              "      border-left-color: var(--fill-color);\n",
              "      border-top-color: var(--fill-color);\n",
              "    }\n",
              "    30% {\n",
              "      border-color: transparent;\n",
              "      border-left-color: var(--fill-color);\n",
              "      border-top-color: var(--fill-color);\n",
              "      border-right-color: var(--fill-color);\n",
              "    }\n",
              "    40% {\n",
              "      border-color: transparent;\n",
              "      border-right-color: var(--fill-color);\n",
              "      border-top-color: var(--fill-color);\n",
              "    }\n",
              "    60% {\n",
              "      border-color: transparent;\n",
              "      border-right-color: var(--fill-color);\n",
              "    }\n",
              "    80% {\n",
              "      border-color: transparent;\n",
              "      border-right-color: var(--fill-color);\n",
              "      border-bottom-color: var(--fill-color);\n",
              "    }\n",
              "    90% {\n",
              "      border-color: transparent;\n",
              "      border-bottom-color: var(--fill-color);\n",
              "    }\n",
              "  }\n",
              "</style>\n",
              "\n",
              "  <script>\n",
              "    async function quickchart(key) {\n",
              "      const quickchartButtonEl =\n",
              "        document.querySelector('#' + key + ' button');\n",
              "      quickchartButtonEl.disabled = true;  // To prevent multiple clicks.\n",
              "      quickchartButtonEl.classList.add('colab-df-spinner');\n",
              "      try {\n",
              "        const charts = await google.colab.kernel.invokeFunction(\n",
              "            'suggestCharts', [key], {});\n",
              "      } catch (error) {\n",
              "        console.error('Error during call to suggestCharts:', error);\n",
              "      }\n",
              "      quickchartButtonEl.classList.remove('colab-df-spinner');\n",
              "      quickchartButtonEl.classList.add('colab-df-quickchart-complete');\n",
              "    }\n",
              "    (() => {\n",
              "      let quickchartButtonEl =\n",
              "        document.querySelector('#df-4e922688-b2be-4d2b-a480-0dfb1ccfc2dd button');\n",
              "      quickchartButtonEl.style.display =\n",
              "        google.colab.kernel.accessAllowed ? 'block' : 'none';\n",
              "    })();\n",
              "  </script>\n",
              "</div>\n",
              "\n",
              "  <div id=\"id_75ed9963-f346-4e24-b5da-0ffcd1ef40be\">\n",
              "    <style>\n",
              "      .colab-df-generate {\n",
              "        background-color: #E8F0FE;\n",
              "        border: none;\n",
              "        border-radius: 50%;\n",
              "        cursor: pointer;\n",
              "        display: none;\n",
              "        fill: #1967D2;\n",
              "        height: 32px;\n",
              "        padding: 0 0 0 0;\n",
              "        width: 32px;\n",
              "      }\n",
              "\n",
              "      .colab-df-generate:hover {\n",
              "        background-color: #E2EBFA;\n",
              "        box-shadow: 0px 1px 2px rgba(60, 64, 67, 0.3), 0px 1px 3px 1px rgba(60, 64, 67, 0.15);\n",
              "        fill: #174EA6;\n",
              "      }\n",
              "\n",
              "      [theme=dark] .colab-df-generate {\n",
              "        background-color: #3B4455;\n",
              "        fill: #D2E3FC;\n",
              "      }\n",
              "\n",
              "      [theme=dark] .colab-df-generate:hover {\n",
              "        background-color: #434B5C;\n",
              "        box-shadow: 0px 1px 3px 1px rgba(0, 0, 0, 0.15);\n",
              "        filter: drop-shadow(0px 1px 2px rgba(0, 0, 0, 0.3));\n",
              "        fill: #FFFFFF;\n",
              "      }\n",
              "    </style>\n",
              "    <button class=\"colab-df-generate\" onclick=\"generateWithVariable('error_df')\"\n",
              "            title=\"Generate code using this dataframe.\"\n",
              "            style=\"display:none;\">\n",
              "\n",
              "  <svg xmlns=\"http://www.w3.org/2000/svg\" height=\"24px\"viewBox=\"0 0 24 24\"\n",
              "       width=\"24px\">\n",
              "    <path d=\"M7,19H8.4L18.45,9,17,7.55,7,17.6ZM5,21V16.75L18.45,3.32a2,2,0,0,1,2.83,0l1.4,1.43a1.91,1.91,0,0,1,.58,1.4,1.91,1.91,0,0,1-.58,1.4L9.25,21ZM18.45,9,17,7.55Zm-12,3A5.31,5.31,0,0,0,4.9,8.1,5.31,5.31,0,0,0,1,6.5,5.31,5.31,0,0,0,4.9,4.9,5.31,5.31,0,0,0,6.5,1,5.31,5.31,0,0,0,8.1,4.9,5.31,5.31,0,0,0,12,6.5,5.46,5.46,0,0,0,6.5,12Z\"/>\n",
              "  </svg>\n",
              "    </button>\n",
              "    <script>\n",
              "      (() => {\n",
              "      const buttonEl =\n",
              "        document.querySelector('#id_75ed9963-f346-4e24-b5da-0ffcd1ef40be button.colab-df-generate');\n",
              "      buttonEl.style.display =\n",
              "        google.colab.kernel.accessAllowed ? 'block' : 'none';\n",
              "\n",
              "      buttonEl.onclick = () => {\n",
              "        google.colab.notebook.generateWithVariable('error_df');\n",
              "      }\n",
              "      })();\n",
              "    </script>\n",
              "  </div>\n",
              "\n",
              "    </div>\n",
              "  </div>\n"
            ]
          },
          "metadata": {},
          "execution_count": 20
        }
      ]
    },
    {
      "cell_type": "markdown",
      "metadata": {
        "id": "34-rvi8Eku9e"
      },
      "source": [
        "### Real vs. Predito"
      ]
    },
    {
      "cell_type": "code",
      "metadata": {
        "id": "LVbeqzMaku9f",
        "colab": {
          "base_uri": "https://localhost:8080/"
        },
        "outputId": "91e074d5-df90-4ffc-8f59-2778adc1d8a8"
      },
      "source": [
        "#Usando a confusion matrix para avaliar a acurácia e demais indicadores\n",
        "from sklearn.metrics import confusion_matrix, classification_report\n",
        "cm = confusion_matrix(y_test,y_pred)\n",
        "cr = classification_report(y_test, y_pred)\n",
        "print(cm)\n",
        "print(cr)"
      ],
      "execution_count": 21,
      "outputs": [
        {
          "output_type": "stream",
          "name": "stdout",
          "text": [
            "[[ 6  0  1]\n",
            " [ 0  9  2]\n",
            " [ 0  0 12]]\n",
            "              precision    recall  f1-score   support\n",
            "\n",
            "   Dano-Alto       1.00      0.86      0.92         7\n",
            "  Dano-Baixo       1.00      0.82      0.90        11\n",
            "  Dano-Medio       0.80      1.00      0.89        12\n",
            "\n",
            "    accuracy                           0.90        30\n",
            "   macro avg       0.93      0.89      0.90        30\n",
            "weighted avg       0.92      0.90      0.90        30\n",
            "\n"
          ]
        }
      ]
    },
    {
      "cell_type": "markdown",
      "metadata": {
        "id": "XTRc7NjBKG65"
      },
      "source": [
        "# Fim"
      ]
    },
    {
      "cell_type": "markdown",
      "metadata": {
        "id": "_fHqFSvWe94c"
      },
      "source": [
        "## Valeu!"
      ]
    },
    {
      "cell_type": "markdown",
      "metadata": {
        "id": "2r1o8LDDzj16"
      },
      "source": [
        "### #Instagram - Ciencia dos Dados <a href=\"http://instagram.com/cienciadosdados\">instagram.com/cienciadosdados</a>"
      ]
    }
  ]
}